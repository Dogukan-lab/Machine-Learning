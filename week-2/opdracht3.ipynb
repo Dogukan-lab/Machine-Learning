{
 "cells": [
  {
   "cell_type": "markdown",
   "source": [
    "# Opdracht 5.3: ZTDL 4: Deep Learning Intro – Iris\n",
    " In notebook 4 Deep Learning staat een casus centraal waarin verschillende soorten Iris bloemen op\n",
    " basis van diameters binnen kelk en buiten kelk worden onderscheiden. Bestudeer deze casus heel\n",
    " goed.\n",
    "\n",
    "- Neem het Jupyter Notebook over in een nieuw eigen Notebook\n",
    "- Maak een schets van het neurale netwerk. Geef daarin de weegfactoren weer die moeten\n",
    "    worden bepaald tijdens de training. Hoeveel lagen heeft dit netwerk?\n",
    "- In dit model wordt als activation function softmax gebruikt. Waarom wordt daarvoor hier\n",
    "    gekozen?\n",
    "- Onderzoek de invloed van de learning rate op het leerproces. Probeer verschillende waarden uit.\n",
    "    Kijk ook welke informatie je hierover kunt vinden op het Internet. Wat is je conclusie?\n",
    "- Is hier sprake van overfitting? Licht je antwoord toe.\n",
    "- Leg de betekenis van de waarden in het classification report uit, t.w. precision, recall en f1\n",
    "    score.\n",
    "- Welke conclusie trek je hier uit de scores in het classification report t.a.v. de\n",
    "    betrouwbaarheid van de Iris classificatie?\n",
    "- Welke informatie kun je uit de confusion matrix aflezen?\n",
    "- Leg het belang uit van de informatie die je uit de confusion matrix haalt bij het trekken van\n",
    "    conclusies."
   ],
   "metadata": {
    "collapsed": false,
    "pycharm": {
     "name": "#%% md\n"
    }
   }
  }
 ],
 "metadata": {
  "kernelspec": {
   "display_name": "Python 3",
   "language": "python",
   "name": "python3"
  },
  "language_info": {
   "codemirror_mode": {
    "name": "ipython",
    "version": 2
   },
   "file_extension": ".py",
   "mimetype": "text/x-python",
   "name": "python",
   "nbconvert_exporter": "python",
   "pygments_lexer": "ipython2",
   "version": "2.7.6"
  }
 },
 "nbformat": 4,
 "nbformat_minor": 0
}