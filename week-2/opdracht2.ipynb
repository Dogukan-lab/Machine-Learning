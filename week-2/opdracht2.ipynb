{
 "cells": [
  {
   "cell_type": "markdown",
   "source": [
    "# Opdracht 5.2: ZTDL 4: Deep Learning Intro – deep model\n",
    "- Bestudeer in ZTDL 4 het Deep Model dat wordt toegepast op de dataset, zie ook figuur 11.\n",
    "- Maak een schets van het neurale netwerk. Geef daarin de weegfactoren weer die\n",
    "    moeten worden bepaald tijdens de training. Hoeveel lagen heeft dit netwerk?\n",
    "- Welke optimizer wordt hier toegepast? Leg in eigen woorden uit wat i.h.a. de functie is\n",
    "    van een optimizer.\n",
    "- Wat is je conclusie op basis van accuracy scores van de trainingset en de testset? M.a.w.\n",
    "    hoe goed is classificatie?\n",
    "- Is hier sprake van overfitting? Licht je antwoord toe."
   ],
   "metadata": {
    "collapsed": false,
    "pycharm": {
     "name": "#%% md\n"
    }
   }
  }
 ],
 "metadata": {
  "kernelspec": {
   "display_name": "Python 3",
   "language": "python",
   "name": "python3"
  },
  "language_info": {
   "codemirror_mode": {
    "name": "ipython",
    "version": 2
   },
   "file_extension": ".py",
   "mimetype": "text/x-python",
   "name": "python",
   "nbconvert_exporter": "python",
   "pygments_lexer": "ipython2",
   "version": "2.7.6"
  }
 },
 "nbformat": 4,
 "nbformat_minor": 0
}