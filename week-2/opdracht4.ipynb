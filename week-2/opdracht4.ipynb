{
 "cells": [
  {
   "cell_type": "markdown",
   "source": [
    "# Opdracht 5.4: Eenvoudig Classificatie vraagstuk\n",
    "- Kies op Kaggle.com (of elders op het Internet) een dataset uit die je interessant vindt en die\n",
    "    niet gebruikt wordt in het ZTDL-notebook.\n",
    "- Formuleer je eigen classificatie vraagstuk. Je mag het eenvoudig houden. Het gaat er hierom\n",
    "    dat je een keer zelf het traject hebt doorlopen met een eigen dataset.\n",
    "- Voer een dataexploratie en visualisatie uit zodat je verstand krijgt van de dataset.\n",
    "    Je mag hierbij code van elders copy-pasten(!) als je de bron erbij vermeld. In deze module gaat het\n",
    "    niet om leren Phyton programmeren maar om het oplossen van een (eenvoudig) classificatie vraagstuk.\n",
    "- Stel een neuraal netwerk op en train deze met de dataset.\n",
    "- Test het resultaat.\n",
    "- Wat is je conclusie?"
   ],
   "metadata": {
    "collapsed": false,
    "pycharm": {
     "name": "#%% md\n"
    }
   }
  }
 ],
 "metadata": {
  "kernelspec": {
   "display_name": "Python 3",
   "language": "python",
   "name": "python3"
  },
  "language_info": {
   "codemirror_mode": {
    "name": "ipython",
    "version": 2
   },
   "file_extension": ".py",
   "mimetype": "text/x-python",
   "name": "python",
   "nbconvert_exporter": "python",
   "pygments_lexer": "ipython2",
   "version": "2.7.6"
  }
 },
 "nbformat": 4,
 "nbformat_minor": 0
}