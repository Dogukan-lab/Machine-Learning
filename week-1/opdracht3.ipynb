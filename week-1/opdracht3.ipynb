{
 "cells": [
  {
   "cell_type": "markdown",
   "source": [
    "# Opdracht 4.3: ZTDL 3 – Machine Learning\n",
    " De eenvoudigste vorm van Machine Learning is Lineaire Regressie. In het eerste deel van het\n",
    " notebook wordt uitgelegd hoe je dit met analytische code kunt doen. Je mag dit deel overslaan en\n",
    " doorgaan naar de paragraaf Linear Regression with Keras omdat wij ons in deze module willen\n",
    " richten op Neurale Netwerken.\n",
    "\n",
    "We beschouwen in deze opdracht (alleen) de paragraaf Linear Regression with Keras\n",
    "- Neem het Jupyter Notebook over in een nieuw eigen Notebook\n",
    "- Zoek op het Internet een andere dataset dan hier besproken die geschikt is om lineraire\n",
    "    regressie op toe te passen.\n",
    "- Pas lineaire regressie toe op de gevonden dataset.\n",
    "- Plaats commentaar bij de code zodat de werking van het programma op hoofdlijnen duidelijk\n",
    "wordt."
   ],
   "metadata": {
    "collapsed": false,
    "pycharm": {
     "name": "#%% md\n"
    }
   }
  }
 ],
 "metadata": {
  "kernelspec": {
   "display_name": "Python 3",
   "language": "python",
   "name": "python3"
  },
  "language_info": {
   "codemirror_mode": {
    "name": "ipython",
    "version": 2
   },
   "file_extension": ".py",
   "mimetype": "text/x-python",
   "name": "python",
   "nbconvert_exporter": "python",
   "pygments_lexer": "ipython2",
   "version": "2.7.6"
  }
 },
 "nbformat": 4,
 "nbformat_minor": 0
}